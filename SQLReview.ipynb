{
    "metadata": {
        "kernelspec": {
            "name": "SQL",
            "display_name": "SQL",
            "language": "sql"
        },
        "language_info": {
            "name": "sql",
            "version": ""
        },
        "extensions": {
            "azuredatastudio": {
                "version": 1,
                "views": []
            }
        }
    },
    "nbformat_minor": 2,
    "nbformat": 4,
    "cells": [
        {
            "cell_type": "markdown",
            "source": [
                "<span style=\"font-size:12.0pt;\n",
                "font-family:Consolas;mso-ascii-font-family:Consolas;mso-fareast-font-family:\n",
                "+mn-ea;mso-bidi-font-family:+mn-cs;mso-fareast-theme-font:minor-fareast;\n",
                "mso-bidi-theme-font:minor-bidi;color:blue;mso-font-kerning:12.0pt;language:\n",
                "en-US;mso-style-textfill-type:solid;mso-style-textfill-fill-color:blue;\n",
                "mso-style-textfill-fill-alpha:100.0%\"># Basic form of SELECT statement</span>\n",
                "\n",
                "<span style=\"font-size:12.0pt;\n",
                "font-family:Consolas;mso-ascii-font-family:Consolas;mso-fareast-font-family:\n",
                "+mn-ea;mso-bidi-font-family:+mn-cs;mso-fareast-theme-font:minor-fareast;\n",
                "mso-bidi-theme-font:minor-bidi;color:blue;mso-font-kerning:12.0pt;language:\n",
                "en-US;mso-style-textfill-type:solid;mso-style-textfill-fill-color:blue;\n",
                "mso-style-textfill-fill-alpha:100.0%\">```sql</span>\n",
                "\n",
                "<span style=\"font-size: 16px;\">SELECT [ALL | DISTINCT] {*|expression [, expression ...]}&nbsp;</span> \n",
                "\n",
                "<span style=\"font-size: 16px;\">FROM table name</span>\n",
                "\n",
                "<span style=\"font-size: 16px;\">[WHERE conditions(s)]</span>\n",
                "\n",
                "<span style=\"font-size: 16px;\">[GROUP BY column name [, column name ...]</span>\n",
                "\n",
                "<span style=\"font-size: 16px;\">[HAVING conditions(s)]</span>\n",
                "\n",
                "<span style=\"font-size: 16px;\">[ORDER BY {column name |seq nr}{ASC|DESC}[,...]</span>\n",
                "\n",
                "<span style=\"color: blue; font-family: Consolas; font-size: 12pt;\">```</span>"
            ],
            "metadata": {
                "azdata_cell_guid": "0ff2f1ea-c41c-4c5a-85ef-bd784fc04ad4"
            },
            "attachments": {}
        }
    ]
}