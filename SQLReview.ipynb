{
    "metadata": {
        "kernelspec": {
            "name": "SQL",
            "display_name": "SQL",
            "language": "sql"
        },
        "language_info": {
            "name": "sql",
            "version": ""
        },
        "extensions": {
            "azuredatastudio": {
                "version": 1,
                "views": []
            }
        }
    },
    "nbformat_minor": 2,
    "nbformat": 4,
    "cells": [
        {
            "cell_type": "markdown",
            "source": [
                "# Basic form of SELECT statement\n",
                "\n",
                "```sql\n",
                "SELECT [ALL | DISTINCT] {*|expression [, expression ...]} \n",
                "FROM table name\n",
                "[WHERE conditions(s)]\n",
                "[GROUP BY column name [, column name ...]\n",
                "[HAVING conditions(s)]\n",
                "[ORDER BY {column name |seq nr}{ASC|DESC}[,...]\n",
                "```\n",
                "- SELECT clause: specifies the columns to show in the ouput. DISTINCT filters out duplicate lines\n",
                "- FROM clause: table name \n",
                "- WHERE clause: filter condition on individual lines in the output\n",
                "- GROUP BY clause: grouping of data\n",
                "- HAVING clause: filter condition on groups\n",
                "- ORDER BY clause: sorting \n",
                "\n",
                "## SELECT clause: specification of the columns\n",
                "- All columns from table: use *\n",
                "```sql\n",
                "SELECT *\n",
                "```\n",
                "- Specific columns: use columns names or expression\n",
                "```sql\n",
                "SELECT column1 , column2, column3*column4, …\n",
                "```"
            ],
            "metadata": {
                "azdata_cell_guid": "0ff2f1ea-c41c-4c5a-85ef-bd784fc04ad4"
            },
            "attachments": {}
        },
        {
            "cell_type": "markdown",
            "source": [
                "Example: Show all data of all products\t"
            ],
            "metadata": {
                "azdata_cell_guid": "4644ac1a-ff46-4325-8010-b516c4a860ef"
            }
        },
        {
            "cell_type": "code",
            "source": [
                "SELECT *\r\n",
                "FROM Products"
            ],
            "metadata": {
                "azdata_cell_guid": "b860b3c2-62be-470a-9c05-079ceaad281e",
                "tags": []
            },
            "outputs": [],
            "execution_count": null
        },
        {
            "cell_type": "markdown",
            "source": [
                "Example: Show for all a products productID, name and unit price"
            ],
            "metadata": {
                "azdata_cell_guid": "3cf8456b-795a-48ac-b1d4-6d6ea78a436c"
            },
            "attachments": {}
        },
        {
            "cell_type": "code",
            "source": [
                "SELECT productid, productname, unitprice\r\n",
                "FROM Products"
            ],
            "metadata": {
                "azdata_cell_guid": "c1eba631-0dfe-4022-b9db-0ca3ab5b1d64"
            },
            "outputs": [],
            "execution_count": null
        },
        {
            "cell_type": "markdown",
            "source": [
                "## SELECT ... WHERE\n",
                "\n",
                "WHERE clause: Specification of conditions for individual rows\n",
                "\n",
                "Example: show productid, productname and unitprice of all products from category 1"
            ],
            "metadata": {
                "azdata_cell_guid": "f186fde6-0263-49ef-a17a-49429e7cec27"
            },
            "attachments": {}
        },
        {
            "cell_type": "code",
            "source": [
                "SELECT productid, productname, unitprice\r\n",
                "FROM Products\r\n",
                "WHERE categoryID = 1"
            ],
            "metadata": {
                "azdata_cell_guid": "fb0a0d26-39bc-4f36-8f09-15596990ddc6"
            },
            "outputs": [],
            "execution_count": null
        },
        {
            "cell_type": "markdown",
            "source": [
                "**Use of literals**\n",
                "\n",
                "- Numeric values: ... WHERE categoryID = 1\n",
                "- Alphanumeric values: ... WHERE productName = 'Chai'\n",
                "- Dates: ... WHERE orderDate = '4/15/1998' (15th april 1998)\n",
                "\n",
                "**Conditions for rows**\n",
                "\n",
                "- Comparison operators\n",
                "- Wildcards\n",
                "- Logical operators\n",
                "- Interval of specific values\n",
                "- List of values\n",
                "- Unknown values\n",
                "- Use brackets () to overrule priority rules and enhance readability\n",
                "\n",
                "**Comparison operators**: =, \\>, \\>=, \\<, \\<=, \\<\\>\n",
                "\n",
                "Example: Show productID, name, units in stock for all products with less than 5 units in stock"
            ],
            "metadata": {
                "azdata_cell_guid": "4e5aee2c-5c05-4ce0-8002-617d7ee8f398"
            },
            "attachments": {}
        },
        {
            "cell_type": "code",
            "source": [
                "SELECT productid, productname, unitprice\r\n",
                "FROM Products\r\n",
                "WHERE UnitsInStock < 5"
            ],
            "metadata": {
                "azdata_cell_guid": "14e1db2d-e2ec-4b48-8ca7-b5a6ecb38348"
            },
            "outputs": [],
            "execution_count": null
        },
        {
            "cell_type": "markdown",
            "source": [
                "Example: Show productID, name, units in stock for all products for which the name starts with A"
            ],
            "metadata": {
                "azdata_cell_guid": "07ffbf74-9d3e-4ed5-87fd-bfac313f4c7c"
            },
            "attachments": {}
        },
        {
            "cell_type": "code",
            "source": [
                "SELECT productid, productname, unitprice\r\n",
                "FROM Products\r\n",
                "WHERE productname >= 'A' AND productname < 'B'"
            ],
            "metadata": {
                "azdata_cell_guid": "21ab52fd-d0a1-42fa-bb44-1223e52f69f3"
            },
            "outputs": [],
            "execution_count": null
        },
        {
            "cell_type": "markdown",
            "source": [
                "**Wildcards (searching for patterns)**\r\n",
                "- Always in combination with operator LIKE, NOT LIKE\r\n",
                "- Wildcard symbols:\r\n",
                "    - % --> arbitrary sequence of 0, 1  or more characters\r\n",
                "    - _  --> 1 character\r\n",
                "    - [ ] --> 1 character in a specified range\r\n",
                "    - [^] --> every character not in the specified range\r\n",
                "\r\n",
                "Example: Show productID and name of the products for which the second letter is in the range a-k\r\n",
                ""
            ],
            "metadata": {
                "azdata_cell_guid": "ac67efac-7477-459f-be46-2f669c11d5e6"
            },
            "attachments": {}
        },
        {
            "cell_type": "code",
            "source": [
                "SELECT productid, productname\r\n",
                "FROM Products\r\n",
                "WHERE productname LIKE '_[a-k]%'"
            ],
            "metadata": {
                "azdata_cell_guid": "da4cf954-1bdf-4366-b3a2-b5598fe6fdb6"
            },
            "outputs": [],
            "execution_count": null
        },
        {
            "cell_type": "markdown",
            "source": [
                "**Logical operators**\r\n",
                "- OR, AND, NOT   (ascending priority)\r\n",
                "\r\n",
                "Example"
            ],
            "metadata": {
                "azdata_cell_guid": "9083c4ef-59fe-4099-903a-2678bec59ef1"
            },
            "attachments": {}
        },
        {
            "cell_type": "code",
            "source": [
                "SELECT ProductID, ProductName, SupplierID, UnitPrice\r\n",
                "FROM Products\r\n",
                "WHERE ProductName LIKE 'T%' OR (ProductID = 46 AND UnitPrice > 16.00)"
            ],
            "metadata": {
                "azdata_cell_guid": "4df2c28d-b669-4f06-8adc-b34cf7dd9357"
            },
            "outputs": [],
            "execution_count": null
        },
        {
            "cell_type": "markdown",
            "source": [
                "**Values in an interval**\r\n",
                "- BETWEEN,  NOT BETWEEN\r\n",
                "\r\n",
                "Example: Select the products (name and unit price) for which the unit price is between 10 and 15 euro (boundaries included)"
            ],
            "metadata": {
                "azdata_cell_guid": "feed79d7-ba69-4327-8fbb-57a329c8c38b"
            }
        },
        {
            "cell_type": "code",
            "source": [
                "SELECT ProductName, UnitPrice\r\n",
                "FROM Products\r\n",
                "WHERE UnitPrice BETWEEN 10 AND 15"
            ],
            "metadata": {
                "azdata_cell_guid": "a35ac8b3-a7f2-4da4-b313-d61c72b7b31e"
            },
            "outputs": [],
            "execution_count": null
        },
        {
            "cell_type": "markdown",
            "source": [
                "**List of values**\r\n",
                "- IN, NOT IN\r\n",
                "\r\n",
                "Example: Show ProductID, ProductName and SupplierID of the products supplied by suppliers with ID 1, 3 or 5\r\n",
                ""
            ],
            "metadata": {
                "azdata_cell_guid": "f925560f-70e4-49bb-bafc-43d48dc5834a"
            }
        },
        {
            "cell_type": "code",
            "source": [
                "SELECT ProductID, ProductName, SupplierID\r\n",
                "FROM Products\r\n",
                "WHERE SupplierID in (1,3,5)"
            ],
            "metadata": {
                "azdata_cell_guid": "4b8577c4-fc6c-4f42-aa08-016d4aa6c22a"
            },
            "outputs": [],
            "execution_count": null
        },
        {
            "cell_type": "markdown",
            "source": [
                "**Test for unknown (or empty) values**\n",
                "\n",
                "- IS NULL, IS NOT NULL\n",
                "    - NULL values occur if no value has been specified for a column when creating a record\n",
                "    - A NULL is not equal to 0 (for numerical values), blank or empty string \u000b(for character values)!\n",
                "    - NULL fields are considered as equal (for e.g. testing with DISTINCT)\n",
                "    - If a NULL value appears in an expression the result is always NULL\n",
                "\n",
                "Example: Select suppliers from an unknown region"
            ],
            "metadata": {
                "azdata_cell_guid": "0c511a1a-dd01-419c-83d0-3c56f659a2f7"
            },
            "attachments": {}
        },
        {
            "cell_type": "code",
            "source": [
                "SELECT CompanyName, Region\r\n",
                "FROM Suppliers\r\n",
                "WHERE Region IS NULL"
            ],
            "metadata": {
                "azdata_cell_guid": "4f3590c6-aef6-439c-87bf-94ae13225f66"
            },
            "outputs": [],
            "execution_count": null
        },
        {
            "cell_type": "markdown",
            "source": [
                "Be careful with NULL!\n",
                "\n",
                "Example: Be aware of the difference between the 2 following queries"
            ],
            "metadata": {
                "azdata_cell_guid": "173a02a9-0ec6-45df-b253-43c222246a73"
            },
            "attachments": {}
        },
        {
            "cell_type": "code",
            "source": [
                "SELECT CompanyName, Region\r\n",
                "FROM Suppliers\r\n",
                "WHERE Region <> 'OR'"
            ],
            "metadata": {
                "azdata_cell_guid": "59835216-d149-4517-b410-10ceee9575a8"
            },
            "outputs": [],
            "execution_count": null
        },
        {
            "cell_type": "code",
            "source": [
                "SELECT CompanyName, Region\r\n",
                "FROM Suppliers\r\n",
                "WHERE Region <> 'OR' OR Region IS NULL"
            ],
            "metadata": {
                "azdata_cell_guid": "1463cecd-90ed-40a8-858a-bd284a3e9e7c"
            },
            "outputs": [],
            "execution_count": null
        },
        {
            "cell_type": "markdown",
            "source": [
                "## SELECT … ORDER BY\r\n",
                "\r\n",
                "**Sorting of data**\r\n",
                "- ORDER BY clause\r\n",
                "    - Sorting according to one or more sorting criteria\r\n",
                "    - Each sorting criterion can be specified by either a column name, an expression or a sequence number that corresponds to the order of columns in the SELECT clause (starting from 1)\r\n",
                "    - Sorting criteria are evaluated left to right\r\n",
                "    - Default sort occurs in ascending order (ASC: default), if descending order is required specify DESC after the criterion\r\n",
                "\r\n",
                "Example: Show an alphabetic list of product names"
            ],
            "metadata": {
                "azdata_cell_guid": "4fdb37e0-16ce-4712-8409-8337079dbf4c"
            }
        },
        {
            "cell_type": "code",
            "source": [
                "SELECT ProductName\r\n",
                "FROM Products\r\n",
                "ORDER BY ProductName      -- or ORDER BY 1"
            ],
            "metadata": {
                "azdata_cell_guid": "53bfea35-bc19-4785-bf68-ece51d77cdb1"
            },
            "outputs": [],
            "execution_count": null
        },
        {
            "cell_type": "markdown",
            "source": [
                "Example: Show productid, name, productclassid of the products sorted by productclassid. If the class is the same products with the highest price appear first."
            ],
            "metadata": {
                "azdata_cell_guid": "99157bb7-c5a2-4a9e-812b-a78bc328d08e"
            }
        },
        {
            "cell_type": "code",
            "source": [
                "SELECT ProductID, ProductName, CategoryID, UnitPrice\r\n",
                "FROM Products\r\n",
                "ORDER BY CategoryID, UnitPrice DESC "
            ],
            "metadata": {
                "azdata_cell_guid": "6ee71ba9-8351-4d22-8105-93b35dadd515"
            },
            "outputs": [],
            "execution_count": null
        },
        {
            "cell_type": "markdown",
            "source": [
                "## SELECT DISTINCT / ALL\n",
                "\n",
                "**Uniqueness of rows**\n",
                "- DISTINCT filters out duplicates lines in the output\n",
                "- ALL (default) shows all rows, including duplicates\n",
                "\n",
                "Example: Show all suppliers that supply products"
            ],
            "metadata": {
                "azdata_cell_guid": "66e169d5-d895-4247-a484-2939ccf3f77c"
            },
            "attachments": {}
        },
        {
            "cell_type": "code",
            "source": [
                "SELECT SupplierID\r\n",
                "FROM Products\r\n",
                "ORDER BY SupplierID "
            ],
            "metadata": {
                "azdata_cell_guid": "150823c9-4b18-40d9-b9e3-30d4a4365610"
            },
            "outputs": [],
            "execution_count": null
        },
        {
            "cell_type": "code",
            "source": [
                "SELECT DISTINCT SupplierID\r\n",
                "FROM Products\r\n",
                "ORDER BY SupplierID "
            ],
            "metadata": {
                "azdata_cell_guid": "63e973f0-9c62-455f-b4fd-3b2cf662acdb",
                "tags": [
                    "hide_input"
                ]
            },
            "outputs": [],
            "execution_count": null
        },
        {
            "cell_type": "markdown",
            "source": [
                "Exercise: Give the names of all products containing the word 'bröd' or with a name of 6 characters."
            ],
            "metadata": {
                "azdata_cell_guid": "067617cc-8143-47f2-be71-87819e14d7c8"
            }
        },
        {
            "cell_type": "code",
            "source": [
                ""
            ],
            "metadata": {
                "azdata_cell_guid": "dc96f257-781c-49db-9590-bb5c62aafefc"
            },
            "outputs": [],
            "execution_count": null
        },
        {
            "cell_type": "markdown",
            "source": [
                "Exercise: Show the productname and the reorderlevel of all products with a level between 50 and 500 (boundaries included)"
            ],
            "metadata": {
                "azdata_cell_guid": "b23d5e6e-b085-4018-8111-a08da245c9b1"
            }
        },
        {
            "cell_type": "code",
            "source": [
                ""
            ],
            "metadata": {
                "azdata_cell_guid": "f5d5a6a1-3e5b-498f-95b3-8ff439191bd7"
            },
            "outputs": [],
            "execution_count": null
        },
        {
            "cell_type": "markdown",
            "source": [
                "## SELECT and aliases\r\n",
                "\r\n",
                "**Column names in output**\r\n",
                "- Default : column title = name of column in table; calculated columns \u000bare unnamed\r\n",
                "- The AS keyword allow you to give a column a new title  \r\n",
                "Remark: the new column name can only be used in ORDER BY (not in WHERE, HAVING, GROUP BY)\r\n",
                "\r\n",
                "Example: Select ProductID, ProductName of the products:\r\n",
                ""
            ],
            "metadata": {
                "azdata_cell_guid": "2baecd56-6967-4eaa-9d41-a1f10ea55714"
            }
        },
        {
            "cell_type": "code",
            "source": [
                "SELECT ProductID AS ProductNummer, ProductName AS 'Name Product'\r\n",
                "FROM Products"
            ],
            "metadata": {
                "azdata_cell_guid": "e5e7cb20-92e5-4c1a-aa7d-9fccb4ed3bd4"
            },
            "outputs": [],
            "execution_count": null
        },
        {
            "cell_type": "markdown",
            "source": [
                "## SELECT with calculated results\r\n",
                "**Calculated result columns**\r\n",
                "- Arithmetic operators : +, -, /, *\r\n",
                "\r\n",
                "Example: Give name and inventory value of the products\r\n",
                ""
            ],
            "metadata": {
                "azdata_cell_guid": "da42f5f2-4d9b-4ee1-9831-629c618d5425"
            },
            "attachments": {}
        },
        {
            "cell_type": "code",
            "source": [
                "SELECT ProductName, UnitPrice * UnitsInStock  AS InventoryValue\r\n",
                "FROM Products"
            ],
            "metadata": {
                "azdata_cell_guid": "b6dbe29b-49d4-439a-94c4-ad4856936d3c"
            },
            "outputs": [],
            "execution_count": null
        },
        {
            "cell_type": "markdown",
            "source": [
                "## SELECT and use of functions\r\n",
                "**Functions**\r\n",
                "- String functions: left, right, len, ltrim, rtrim, substring, replace, ...\r\n",
                "- DateTime functions: DateAdd, DateDiff, DatePart, Day, Month, Year  GETDATE(): returns current date and time in \r\n",
                "- DATETIME format specified by MS-SQL Server.\r\n",
                "- Arithmetic functions: round, floor, ceiling, cos, sin, ...\r\n",
                "- Aggregate functions: AVG, SUM, ...\r\n",
                "- ISNULL: replaces NULL values with specified value\r\n",
                "- Reference document: http://msdn.microsoft.com/en-us/library/ms174318.aspx\r\n",
                ""
            ],
            "metadata": {
                "azdata_cell_guid": "85d1f5a7-3c77-477a-be5c-144281d0524f"
            },
            "attachments": {}
        },
        {
            "cell_type": "code",
            "source": [
                "SELECT ISNULL(UnitPrice, 10.00) \r\n",
                "FROM Products "
            ],
            "metadata": {
                "azdata_cell_guid": "7cc4dc20-257c-4145-84d2-aa0576e7aa05"
            },
            "outputs": [],
            "execution_count": null
        },
        {
            "cell_type": "markdown",
            "source": [
                "## SELECT and data type conversion\r\n",
                "**Implicit conversions**\r\n",
                "- Sometimes possible\r\n",
                "- Example: UnitsInStock * 0.5  \r\n",
                "UnitInStock (int) is automatically converted to decimal\r\n",
                "\r\n",
                "**Explicit conversions**\r\n",
                "- CAST (\\<value expression\\> AS \\<data type\\>)\r\n",
                "- Example: PRINT CAST(-25.25 AS INTEGER) -> -25\r\n",
                "- CONVERT (\\<data type, \\<expression\\> [, \\<style\\>])\r\n",
                "- FORMAT\r\n",
                ""
            ],
            "metadata": {
                "azdata_cell_guid": "0becc5d6-8894-4a42-adb4-d88cee58ab0c"
            }
        },
        {
            "cell_type": "code",
            "source": [
                "SELECT CONVERT(VARCHAR, getdate(), 106) As Today "
            ],
            "metadata": {
                "azdata_cell_guid": "1491389e-6a37-4f5c-86eb-c10fa40377a1"
            },
            "outputs": [],
            "execution_count": null
        },
        {
            "cell_type": "code",
            "source": [
                "SELECT * \r\n",
                "FROM Orders\r\n",
                "WHERE FORMAT(ShippedDate,'dd/MM/yyyy')='10/07/2020'"
            ],
            "metadata": {
                "azdata_cell_guid": "00da79f8-3d1f-436d-a51d-0d99884c04eb"
            },
            "outputs": [],
            "execution_count": null
        },
        {
            "cell_type": "markdown",
            "source": [
                "## String functions"
            ],
            "metadata": {
                "azdata_cell_guid": "6b8217d6-95f4-4ac4-a334-4ddd3ec91272"
            },
            "attachments": {}
        },
        {
            "cell_type": "markdown",
            "source": [
                "- concatenate"
            ],
            "metadata": {
                "azdata_cell_guid": "6d2051ee-08ec-4698-b294-a6804cc17543"
            },
            "attachments": {}
        },
        {
            "cell_type": "code",
            "source": [
                "SELECT CONCAT(Address,' ',City) FROM Employees\r\n",
                "-- Idem\r\n",
                "SELECT Address + ' ' + City FROM Employees"
            ],
            "metadata": {
                "azdata_cell_guid": "bbe07c28-348e-45e7-9117-43dc993aad3d"
            },
            "outputs": [],
            "execution_count": null
        },
        {
            "cell_type": "markdown",
            "source": [
                "- substring"
            ],
            "metadata": {
                "azdata_cell_guid": "f8cf8beb-5295-4914-a127-8895e6257e72"
            }
        },
        {
            "cell_type": "code",
            "source": [
                "SELECT SUBSTRING(Address, 1, 5) FROM Employees"
            ],
            "metadata": {
                "azdata_cell_guid": "a248052a-c55f-455f-b928-2c518d9ab147"
            },
            "outputs": [],
            "execution_count": null
        },
        {
            "cell_type": "markdown",
            "source": [
                "- left part"
            ],
            "metadata": {
                "azdata_cell_guid": "ee10f0fc-a7a9-4f24-9553-9f2986e775f9"
            }
        },
        {
            "cell_type": "code",
            "source": [
                "SELECT LEFT(Address,5) FROM Employees"
            ],
            "metadata": {
                "azdata_cell_guid": "174e9f46-c664-410e-b5db-913953faf511"
            },
            "outputs": [],
            "execution_count": null
        },
        {
            "cell_type": "markdown",
            "source": [
                "- right part"
            ],
            "metadata": {
                "azdata_cell_guid": "bd53372a-9db6-412c-abf5-b77fed6fa4da"
            }
        },
        {
            "cell_type": "code",
            "source": [
                "SELECT RIGHT(Address,5) FROM Employees"
            ],
            "metadata": {
                "azdata_cell_guid": "65de389d-a80a-4ce0-8871-ef772ce40293"
            },
            "outputs": [],
            "execution_count": null
        },
        {
            "cell_type": "markdown",
            "source": [
                "- length"
            ],
            "metadata": {
                "azdata_cell_guid": "a5d51156-d8c9-4e13-ae22-b526e419d33e"
            }
        },
        {
            "cell_type": "code",
            "source": [
                "SELECT LEN(Address) FROM Employees"
            ],
            "metadata": {
                "azdata_cell_guid": "f184e7c7-d5e9-48d9-afdd-8d19e469ced8"
            },
            "outputs": [],
            "execution_count": null
        },
        {
            "cell_type": "markdown",
            "source": [
                "- lowercase"
            ],
            "metadata": {
                "azdata_cell_guid": "bdd3e649-91f9-49d7-b247-60f47c11706e"
            }
        },
        {
            "cell_type": "code",
            "source": [
                "SELECT LOWER(Address) FROM Employees"
            ],
            "metadata": {
                "azdata_cell_guid": "70b2ff85-5e94-41dc-b252-4790075a32d7"
            },
            "outputs": [],
            "execution_count": null
        },
        {
            "cell_type": "markdown",
            "source": [
                "- uppercase"
            ],
            "metadata": {
                "azdata_cell_guid": "64ecc7c2-8287-4bf9-b0c5-0f0b83d3ad51"
            }
        },
        {
            "cell_type": "code",
            "source": [
                "SELECT UPPER(Address) FROM Employees"
            ],
            "metadata": {
                "azdata_cell_guid": "9c79f422-2853-4eab-ad0f-8368ad95734d"
            },
            "outputs": [],
            "execution_count": null
        },
        {
            "cell_type": "markdown",
            "source": [
                "- remove spaces left and right"
            ],
            "metadata": {
                "azdata_cell_guid": "649ebcec-7621-407b-8d80-2567b5c5301b"
            }
        },
        {
            "cell_type": "code",
            "source": [
                "SELECT RTRIM(LTRIM(Address)) FROM Employees"
            ],
            "metadata": {
                "azdata_cell_guid": "0d7a95c9-a19b-4bfd-a451-8752dbca9463"
            },
            "outputs": [],
            "execution_count": null
        },
        {
            "cell_type": "markdown",
            "source": [
                "## Date / time functions\r\n",
                "- System date"
            ],
            "metadata": {
                "azdata_cell_guid": "0bd6490b-e004-46ea-9bcb-9754cb1d417b"
            }
        },
        {
            "cell_type": "code",
            "source": [
                "SELECT GETDATE()"
            ],
            "metadata": {
                "azdata_cell_guid": "1f18ad7c-2888-41be-ba02-00ded0635809"
            },
            "outputs": [],
            "execution_count": null
        },
        {
            "cell_type": "markdown",
            "source": [
                "- Add years, months, days to date"
            ],
            "metadata": {
                "azdata_cell_guid": "0fef0093-011c-43cb-a541-124f29ab603b"
            }
        },
        {
            "cell_type": "code",
            "source": [
                "SELECT DATEADD (year, 2, GETDATE())\r\n",
                "SELECT DATEADD (month, 2, GETDATE())\r\n",
                "SELECT DATEADD (day, 2, GETDATE())"
            ],
            "metadata": {
                "azdata_cell_guid": "bbaf9f23-c5f6-48bd-a59c-a826a5a08cd8",
                "tags": []
            },
            "outputs": [],
            "execution_count": null
        },
        {
            "cell_type": "markdown",
            "source": [
                "- Number of years, months, days  between 2 dates"
            ],
            "metadata": {
                "azdata_cell_guid": "d2de56e8-e15a-4fe3-98b3-aa30df010012"
            }
        },
        {
            "cell_type": "code",
            "source": [
                "SELECT DATEDIFF(day,BIRTHDATE,GETDATE()) As NumberOfDays\r\n",
                "FROM Employees"
            ],
            "metadata": {
                "azdata_cell_guid": "60450982-13a8-48e1-bee8-9f20a0112fdd"
            },
            "outputs": [],
            "execution_count": null
        },
        {
            "cell_type": "markdown",
            "source": [
                "- Day of the month"
            ],
            "metadata": {
                "azdata_cell_guid": "e5d1d0c8-666c-4f87-9613-5e02fd5ac819"
            },
            "attachments": {}
        },
        {
            "cell_type": "code",
            "source": [
                "SELECT DAY(GETDATE())"
            ],
            "metadata": {
                "azdata_cell_guid": "6a3c0e95-36aa-4a73-a600-5845f5789e31"
            },
            "outputs": [],
            "execution_count": null
        },
        {
            "cell_type": "markdown",
            "source": [
                "- Month of the year"
            ],
            "metadata": {
                "azdata_cell_guid": "2d54eb71-5029-407b-b302-eeb0cc49be5b"
            }
        },
        {
            "cell_type": "code",
            "source": [
                "SELECT MONTH(GETDATE())"
            ],
            "metadata": {
                "azdata_cell_guid": "079ddd68-fd54-4b3b-a898-4c6b801dba63"
            },
            "outputs": [],
            "execution_count": null
        },
        {
            "cell_type": "markdown",
            "source": [
                "- Year"
            ],
            "metadata": {
                "azdata_cell_guid": "f265325c-fb90-45c8-9546-873d03448699"
            }
        },
        {
            "cell_type": "code",
            "source": [
                "SELECT YEAR(GETDATE()) "
            ],
            "metadata": {
                "azdata_cell_guid": "bd36bd72-c06f-41c0-a2c3-c0283303a4a3"
            },
            "outputs": [],
            "execution_count": null
        },
        {
            "cell_type": "markdown",
            "source": [
                "- https://msdn.microsoft.com/en-us/library/ms186724.aspx "
            ],
            "metadata": {
                "azdata_cell_guid": "23a675dd-976d-4378-8c10-d3e6c2f87526"
            },
            "attachments": {}
        },
        {
            "cell_type": "code",
            "source": [
                "SELECT GETDATE()\r\n",
                "\r\n",
                "SELECT GETUTCDATE()\r\n",
                "\r\n",
                "SELECT SYSDATETIME()\r\n",
                "\r\n",
                "SELECT SYSDATETIMEOFFSET()"
            ],
            "metadata": {
                "azdata_cell_guid": "618a0e0f-b084-441b-bf71-91ad03fb54cb"
            },
            "outputs": [],
            "execution_count": null
        },
        {
            "cell_type": "markdown",
            "source": [
                "## Arithmetic functions\r\n",
                "- Absolute value"
            ],
            "metadata": {
                "azdata_cell_guid": "31ca8208-d574-4e4c-908f-8c91ee3179e0"
            }
        },
        {
            "cell_type": "code",
            "source": [
                "SELECT ABS(-10) -- 10"
            ],
            "metadata": {
                "azdata_cell_guid": "f9d9154f-51f4-4ec3-b848-50f57957ae26"
            },
            "outputs": [],
            "execution_count": null
        },
        {
            "cell_type": "markdown",
            "source": [
                "- Round to give number of decimals"
            ],
            "metadata": {
                "azdata_cell_guid": "4c707d2b-6acb-43ad-96f7-6bccf15d677c"
            }
        },
        {
            "cell_type": "code",
            "source": [
                "SELECT ROUND(10.75, 1)  -- 10.8"
            ],
            "metadata": {
                "azdata_cell_guid": "756eb3f6-2bb7-4e01-ab17-ded4db7329f0"
            },
            "outputs": [],
            "execution_count": null
        },
        {
            "cell_type": "markdown",
            "source": [
                "- Largest integer thas is lower"
            ],
            "metadata": {
                "azdata_cell_guid": "7a72dd69-c8a6-4632-b2fd-0949dc389db4"
            }
        },
        {
            "cell_type": "code",
            "source": [
                "SELECT FLOOR(10.75)   -- 10"
            ],
            "metadata": {
                "azdata_cell_guid": "43e50930-6b58-4d92-9183-7e0c7eae8110"
            },
            "outputs": [],
            "execution_count": null
        },
        {
            "cell_type": "markdown",
            "source": [
                "- Smallest integer that is higher"
            ],
            "metadata": {
                "azdata_cell_guid": "09d775d3-7822-41db-805b-c40a09cb19b9"
            }
        },
        {
            "cell_type": "code",
            "source": [
                "SELECT CEILING(10.75) -- 11"
            ],
            "metadata": {
                "azdata_cell_guid": "1f6a31fb-d05b-4c23-9e32-310a63e76f75"
            },
            "outputs": [],
            "execution_count": null
        },
        {
            "cell_type": "markdown",
            "source": [
                "## CASE\r\n",
                "**Simple CASE expression**"
            ],
            "metadata": {
                "azdata_cell_guid": "47aac452-5b65-4aec-b408-1c35c5f5ccf7"
            }
        },
        {
            "cell_type": "code",
            "source": [
                "SELECT City, Region, \r\n",
                "CASE region \r\n",
                "  WHEN 'OR' THEN 'West'\r\n",
                "  WHEN 'MI' THEN 'North'\r\n",
                "  ELSE 'Elsewhere'\r\n",
                "END As RegionElaborated\r\n",
                "FROM Suppliers"
            ],
            "metadata": {
                "azdata_cell_guid": "3b021e08-7319-46e1-a538-349cf314c37e"
            },
            "outputs": [],
            "execution_count": null
        },
        {
            "cell_type": "markdown",
            "source": [
                "**Searched CASE expression**"
            ],
            "metadata": {
                "azdata_cell_guid": "d1dd537a-e623-4878-b122-87ad31eb34c2"
            }
        },
        {
            "cell_type": "code",
            "source": [
                "SELECT CONVERT(varchar(20), ProductName) As 'Shortened ProductName',\r\n",
                "   CASE \r\n",
                "      WHEN UnitPrice IS NULL THEN 'Not yet priced'      \r\n",
                "      WHEN UnitPrice < 10 THEN 'Very Reasonable Price'\r\n",
                "      WHEN UnitPrice >= 10 and UnitPrice < 20 THEN 'Affordable'\r\n",
                "      ELSE 'Expensive!'\r\n",
                "   END AS 'Price Category'\r\n",
                "FROM Products\r\n",
                "ORDER BY UnitPrice"
            ],
            "metadata": {
                "azdata_cell_guid": "54ed638b-a71b-44f6-a4ad-d4305c966121"
            },
            "outputs": [],
            "execution_count": null
        },
        {
            "cell_type": "markdown",
            "source": [
                "## SELECT and strings\r\n",
                "- String operator: concatenate"
            ],
            "metadata": {
                "azdata_cell_guid": "3ea7f269-728e-49ed-9ff3-56b663d9c3d5"
            }
        },
        {
            "cell_type": "code",
            "source": [
                "SELECT STR(ProductID) + ',' + ProductName AS Product\r\n",
                "FROM Products"
            ],
            "metadata": {
                "azdata_cell_guid": "ce9224db-e36b-4ec0-99ff-e962e616b0ad"
            },
            "outputs": [],
            "execution_count": null
        },
        {
            "cell_type": "markdown",
            "source": [
                "- Use of literal text (literals)"
            ],
            "metadata": {
                "azdata_cell_guid": "feb3c217-431a-487f-a097-aca9235894b4"
            }
        },
        {
            "cell_type": "code",
            "source": [
                "SELECT ProductName, '$' As Currency, Unitprice\r\n",
                "FROM Products"
            ],
            "metadata": {
                "azdata_cell_guid": "ec998191-87d1-4a3f-aa99-534e5674f06b"
            },
            "outputs": [],
            "execution_count": null
        },
        {
            "cell_type": "markdown",
            "source": [
                "# GROUP BY and statististical functions\r\n",
                "## Statistical functions (aka aggregate functions)\r\n",
                "SQL has 5 standard functions\r\n",
                "- SUM(expression): sum\r\n",
                "- AVG(expression): average\r\n",
                "- MIN(expression): minimum\r\n",
                "- MAX(expression): maximum\r\n",
                "- COUNT(*|[DISTINCT] column name): count\r\n",
                "\r\n",
                "These functions give one answer per column (or group: see further) and can never be used in a where-clause\r\n",
                "\r\n",
                "**SUM** \r\n",
                "- Returns the sum of all (numeric) values in a column\r\n",
                "- Can only be used with numeric columns\r\n",
                "\r\n",
                "Example: Give the total stock value\r\n",
                ""
            ],
            "metadata": {
                "azdata_cell_guid": "fb703b11-89c3-4d15-b21c-fcc30def03ab"
            },
            "attachments": {}
        },
        {
            "cell_type": "code",
            "source": [
                "SELECT SUM(UnitsInStock * UnitPrice) as InventoryValue\r\n",
                "FROM Products"
            ],
            "metadata": {
                "azdata_cell_guid": "2edc19f8-9873-4827-b0cf-68ce2b0d90f8"
            },
            "outputs": [],
            "execution_count": null
        },
        {
            "cell_type": "markdown",
            "source": [
                "**AVG**\r\n",
                "- Returns the average of NOT NULL numeric values in a columns\r\n",
                "- Can only be used with numeric columns\r\n",
                "\r\n",
                "Example: What is the average number of products in stock?\r\n",
                ""
            ],
            "metadata": {
                "azdata_cell_guid": "8c7babd4-ea2f-4a9d-ae2c-18301c0866a5"
            },
            "attachments": {}
        },
        {
            "cell_type": "code",
            "source": [
                "SELECT AVG(UnitsInStock) AS AverageStock \r\n",
                "FROM Products"
            ],
            "metadata": {
                "azdata_cell_guid": "88c5c29e-defe-4b21-9b1d-88d021c656ce"
            },
            "outputs": [],
            "execution_count": null
        },
        {
            "cell_type": "markdown",
            "source": [
                "**COUNT**\r\n",
                "- Returns the number of rows, or a number of NOT NULL values in a column\r\n",
                "    - COUNT(*) – counts the number of rows in a SELECT  \r\n",
                "    Example: count the number of products (= all rows)\r\n",
                "    - COUNT (column name) – counts the number of not empty fields in a column  \r\n",
                "    Example: count the number of NOT NULL values in column CategoryID\r\n",
                "    - COUNT(DISTINCT column name) - count the number of different NOT NULL values in column producttypeid  \r\n",
                "    Example: count the number of different NOT NULL values in column CategoryID\r\n",
                "\r\n",
                ""
            ],
            "metadata": {
                "azdata_cell_guid": "bd0701d4-a765-411c-a67f-0718368894b3"
            }
        },
        {
            "cell_type": "code",
            "source": [
                "SELECT COUNT(*) as NumberOfProducts\r\n",
                "FROM Products\r\n",
                "-- vs\r\n",
                "SELECT COUNT(CategoryID) as NumberOfCategoryID\r\n",
                "FROM Products\r\n",
                "-- vs\r\n",
                "SELECT COUNT(DISTINCT CategoryID) as NumberOfCategoryID\r\n",
                "FROM Products"
            ],
            "metadata": {
                "azdata_cell_guid": "c26deef9-f87e-49ed-8406-dcb6dedab290"
            },
            "outputs": [],
            "execution_count": null
        },
        {
            "cell_type": "markdown",
            "source": [
                "## MIN and MAX\r\n",
                "- Returns the smallest and largest value in a column\r\n",
                "- Applicable for both numeric, alphanumeric and datetime fields\r\n",
                "\r\n",
                "Example: What is the cheapest and most expensive unit price?\r\n",
                ""
            ],
            "metadata": {
                "azdata_cell_guid": "59e8dde1-a6ad-4ec9-b6ab-1737158bf65d"
            },
            "attachments": {}
        },
        {
            "cell_type": "code",
            "source": [
                "SELECT MIN(UnitPrice) AS Minimum, MAX(UnitPrice) AS Maximum \r\n",
                "FROM Products"
            ],
            "metadata": {
                "azdata_cell_guid": "41684a6d-0ad3-49c1-98fe-ea19ee19f280"
            },
            "outputs": [],
            "execution_count": null
        },
        {
            "cell_type": "markdown",
            "source": [
                "**Remark**\r\n",
                "- Since a statistical function returns only 1 result, either all expressions in the SELECT clause have to contain a statistical function, or none!  \r\n",
                "This is slightly different if you use group by (see further). \r\n",
                "- Statistical functions do not take into account NULL values.  \r\n",
                "Exception : COUNT(*) also counts rows with NULL values.\r\n",
                "- Some statistical functions only exists in MS Transact-SQL\r\n",
                "    - STDEV: standard deviation of column values\r\n",
                "    - VAR: variance of column values\r\n",
                "    - TOP\r\n",
                "\r\n",
                "Example: Select the top 5 of the cheapest (most expensive) products"
            ],
            "metadata": {
                "azdata_cell_guid": "c4d0a0f8-40d5-4790-86fd-87bc2dad65d0"
            }
        },
        {
            "cell_type": "code",
            "source": [
                "SELECT TOP 5 ProductID, UnitPrice\r\n",
                "FROM Products\r\n",
                "ORDER BY UnitPrice\r\n",
                "-- vs\r\n",
                "SELECT TOP 5 ProductID, UnitPrice\r\n",
                "FROM Products\r\n",
                "ORDER BY UnitPrice DESC"
            ],
            "metadata": {
                "azdata_cell_guid": "7d292e68-1ce4-43fc-9101-58c731e6e186"
            },
            "outputs": [],
            "execution_count": null
        },
        {
            "cell_type": "markdown",
            "source": [
                "## Grouping with GROUP BY\r\n",
                "**Grouping – Statistical functions per group.**\r\n",
                "GROUP BY clause: \r\n",
                "- The table is divided into groups of rows with common characteristics.\r\n",
                "- Per group one unique row!\r\n",
                "- For each group statistical functions can be applied. \r\n",
                "- The column names (or grouping criteria) mentioned in the GROUP BY clause can also appear in the SELECT clause\r\n",
                "\r\n",
                "Example: Show the number of products per category\r\n",
                ""
            ],
            "metadata": {
                "azdata_cell_guid": "f6efcb08-86e9-4593-be9c-f340bdcc3743"
            }
        },
        {
            "cell_type": "code",
            "source": [
                "SELECT CategoryID, COUNT(ProductID) As NumberOfProductsPerCategory\r\n",
                "FROM Products\r\n",
                "GROUP BY CategoryID"
            ],
            "metadata": {
                "azdata_cell_guid": "1c42fac3-29e2-4786-bea2-7fde79ffb366"
            },
            "outputs": [],
            "execution_count": null
        },
        {
            "cell_type": "markdown",
            "source": [
                "Example: Show per category the number of products with UnitPrice > 15 "
            ],
            "metadata": {
                "azdata_cell_guid": "0522a750-a74e-4de4-816e-1b36250defcb"
            }
        },
        {
            "cell_type": "code",
            "source": [
                "SELECT CategoryID, COUNT(ProductID) As NumberOfProductsPerCategory\r\n",
                "FROM Products\r\n",
                "WHERE UnitPrice > 15\r\n",
                "GROUP BY CategoryID"
            ],
            "metadata": {
                "azdata_cell_guid": "f3bcf944-24fd-4177-ba37-3e390e762994"
            },
            "outputs": [],
            "execution_count": null
        },
        {
            "cell_type": "markdown",
            "source": [
                "**HAVING clause**\r\n",
                "- Select or reject groups based on group characteristics\r\n",
                "\r\n",
                "Example: Show the categories that contain more than 10 products"
            ],
            "metadata": {
                "azdata_cell_guid": "7cf72351-84cb-4234-85b0-2e9ba270a764"
            }
        },
        {
            "cell_type": "code",
            "source": [
                "SELECT CategoryID, COUNT(ProductID) As NumberOfProductsPerCategory\r\n",
                "FROM Products\r\n",
                "GROUP BY CategoryID\r\n",
                "HAVING COUNT(ProductID) > 10"
            ],
            "metadata": {
                "azdata_cell_guid": "3a1fbbe4-d02c-4a06-a9fb-941c346941e6"
            },
            "outputs": [],
            "execution_count": null
        },
        {
            "cell_type": "markdown",
            "source": [
                "Example: Show the categories that contain more than 10 products with UnitPrice > 15\r\n",
                ""
            ],
            "metadata": {
                "azdata_cell_guid": "e818881e-8952-40b6-a734-ac7fb611c215"
            }
        },
        {
            "cell_type": "code",
            "source": [
                "SELECT CategoryID, COUNT(ProductID) As NumberOfProductsPerCategory\r\n",
                "FROM Products\r\n",
                "WHERE UnitPrice > 10\r\n",
                "GROUP BY CategoryID\r\n",
                "HAVING COUNT(ProductID) > 10"
            ],
            "metadata": {
                "azdata_cell_guid": "539049df-2266-4694-b372-81fd823f8834"
            },
            "outputs": [],
            "execution_count": null
        },
        {
            "cell_type": "markdown",
            "source": [
                "## WHERE vs HAVING\r\n",
                "**Remarks**\r\n",
                "- WHERE vs HAVING\r\n",
                "    - WHERE – works on individual rows\r\n",
                "    - HAVING – works on groups / conditions on aggregation functions\r\n",
                "- Statistical functions can only be used in SELECT, HAVING, ORDER BY - not in WHERE, GROUP BY\r\n",
                "- If statistical functions appear in the SELECT, then all items in the SELECT-list have to be either statistical functions or group identifications\r\n",
                ""
            ],
            "metadata": {
                "azdata_cell_guid": "01ee0267-55d1-4179-8c4a-acbf293d46b6"
            },
            "attachments": {}
        },
        {
            "cell_type": "code",
            "source": [
                "SELECT CategoryID, MIN(UnitPrice) As Minimum\r\n",
                "FROM Products"
            ],
            "metadata": {
                "azdata_cell_guid": "310eaf41-9a93-4106-b5c2-557c4c629a02"
            },
            "outputs": [],
            "execution_count": null
        },
        {
            "cell_type": "markdown",
            "source": [
                "## Exercises\n",
                "\n",
                "- Count the amount of products (columnname 'amount of products'), AND the amount of products in stock (= unitsinstock not empty) (columnname 'Units in stock')\n",
                "- How many employees have a function of Sales Representative?\n",
                "- Give the date of birth of the youngest employee and the oldest.\n",
                "- What’s the number of employees who will retire (at 65) within the first 30 years?\n",
                "- Show a list of different countries where 2 of more suppliers are from.  \n",
                "Order alphabeticaly.\n",
                "- Which suppliers offer at least 10 products with a price less then 100 dollar?  \n",
                "Show supplierId and the number of different products.  \n",
                "The supplier with the highest number of products comes first."
            ],
            "metadata": {
                "azdata_cell_guid": "1051f160-b7a1-418a-8e4d-daab8e6a3228"
            },
            "attachments": {}
        },
        {
            "cell_type": "markdown",
            "source": [
                "# Working with more than one table: JOIN\r\n",
                "\r\n",
                "_Q: Why do front-end developers eat lunch alone?  \r\n",
                "A: They don’t know how to join tables._\r\n",
                "\r\n",
                "![AnSQLQueryWalksIntoABar](images/AnSQLQueryWalksIntoABar.JPG)\r\n",
                ""
            ],
            "metadata": {
                "azdata_cell_guid": "df455134-0a82-4e0c-970e-c8ba219ae3fc"
            }
        },
        {
            "cell_type": "markdown",
            "source": [
                "## Consult more than 1 table\r\n",
                "- JOIN\r\n",
                "    - Inner join\r\n",
                "    - Outer join\r\n",
                "    - Cross join\r\n",
                "- UNION\r\n",
                "- Subquery's\r\n",
                "    - Simple nested query's\r\n",
                "    - Correlated subquery's\r\n",
                "    - Operator EXISTS\r\n",
                "- Set Operators\r\n",
                "- Common Table Expressions\r\n",
                "\r\n",
                "## JOIN\r\n",
                "Select columns from several tables\r\n",
                "- JOIN keyword : specifies which tables have to be joined and how\r\n",
                "    - Inner join\r\n",
                "    - Outer join\r\n",
                "    - Cross join\r\n",
                "    - ON keyword : specifies the JOIN condition\r\n",
                "- Produces 1 result set, joining the rows of both tables\r\n",
                "- Basic form (ANSI JOIN (SQL-92) <-> Old style join)\r\n",
                "```sql\r\n",
                "SELECT expression\r\n",
                "FROM table1 JOIN table2 ON condition\r\n",
                "           [JOIN table2 ON condition...]\r\n",
                "```\r\n",
                "```sql\r\n",
                "SELECT expression\r\n",
                "FROM table1, table2 [, table3...]\r\n",
                "WHERE condition(s)\r\n",
                "```\r\n",
                "\r\n",
                "## INNER JOIN\r\n",
                "- Joins rows from one table with rows from another table based on common criteria in the corresponding tables. \r\n",
                "- The relation between the fields in the corresponding tables is expressed through: \r\n",
                "    - = (equi-join)\r\n",
                "    - \\<\r\n",
                "    - \\>\r\n",
                "    - <>\r\n",
                "    - \\>=\r\n",
                "    - <=  \r\n",
                "\r\n",
                "Example: Give the categoryname of each product\r\n",
                ""
            ],
            "metadata": {
                "azdata_cell_guid": "44b0b7ca-bf67-475d-8156-c6f80e8baccb"
            },
            "attachments": {}
        },
        {
            "cell_type": "code",
            "source": [
                "-- ANSI JOIN (SQL-92)\r\n",
                "SELECT ProductID, ProductName, CategoryName\r\n",
                "FROM Products JOIN Categories\r\n",
                "ON Products.CategoryID = Categories.CategoryID\r\n",
                "\r\n",
                "-- OLD Style JOIN\r\n",
                "SELECT ProductID, ProductName, CategoryName\r\n",
                "FROM Products, Categories\r\n",
                "WHERE Products.CategoryID = Categories.CategoryID"
            ],
            "metadata": {
                "azdata_cell_guid": "da0875c5-fe1a-4739-ba53-7b6e12940950",
                "tags": []
            },
            "outputs": [],
            "execution_count": null
        },
        {
            "cell_type": "markdown",
            "source": [
                "USE tables aliasses (via 'AS' or blank)"
            ],
            "metadata": {
                "azdata_cell_guid": "9436fba0-33e6-46ff-9609-96b5d30ee4fa"
            },
            "attachments": {}
        },
        {
            "cell_type": "code",
            "source": [
                "-- ANSI JOIN (SQL-92)\r\n",
                "SELECT ProductID, ProductName, CategoryName\r\n",
                "FROM Products p JOIN Categories c\r\n",
                "ON p.CategoryID = c.CategoryID\r\n",
                "\r\n",
                "-- OLD Style JOIN\r\n",
                "SELECT ProductID, ProductName, CategoryName\r\n",
                "FROM Products p, Categories c\r\n",
                "WHERE p.CategoryID = c.CategoryID"
            ],
            "metadata": {
                "azdata_cell_guid": "44399564-b0aa-4815-a207-3874991d452f"
            },
            "outputs": [],
            "execution_count": null
        },
        {
            "cell_type": "markdown",
            "source": [
                "**Remarks**\r\n",
                "- If the same column name is used in several tables in a query, then each column name has to be preceeded by the table name or its alias. \r\n",
                "- Inner joins only return rows that meet the ON condition. \r\n",
                "- If you omit (forget) the where clause in the old style join all combinations are returned  \r\n",
                "= CROSS JOIN (= carthesian product) (see further)\r\n",
                "\r\n",
                "JOIN of more than 2 tables  \r\n",
                "Example: Give for each product the ProductName, the CategoryName and the CompanyName of the supplier\r\n",
                ""
            ],
            "metadata": {
                "azdata_cell_guid": "34995b8a-e6eb-44ea-950a-196113074ba2"
            }
        },
        {
            "cell_type": "code",
            "source": [
                "-- ANSI JOIN (SQL-92)\r\n",
                "SELECT p.ProductID, p.ProductName, c.CategoryName, s.CompanyName\r\n",
                "FROM Products p JOIN Categories c ON p.CategoryID = c.CategoryID\r\n",
                "JOIN Suppliers s ON p.SupplierID = s.SupplierID\r\n",
                "\r\n",
                "-- OLD Style JOIN\r\n",
                "SELECT p.ProductID, p.ProductName, c.CategoryName, s.CompanyName\r\n",
                "FROM Products p, Categories c, Suppliers s\r\n",
                "WHERE p.CategoryID = c.CategoryID AND p.SupplierID = s.SupplierID"
            ],
            "metadata": {
                "azdata_cell_guid": "eb4d5038-40a0-4d42-8ae6-ef8ffe338da7"
            },
            "outputs": [],
            "execution_count": null
        },
        {
            "cell_type": "markdown",
            "source": [
                "Example: Show all employees and the name of whom they have to report to"
            ],
            "metadata": {
                "azdata_cell_guid": "3b84d1d0-671d-489b-acc9-92365f2acfe0"
            }
        },
        {
            "cell_type": "code",
            "source": [
                "SELECT e1.EmployeeID, e1.Firstname + ' ' + e1.LastName As Employee,\r\n",
                "e2.Firstname + ' ' + e2.LastName As ReportsTo\r\n",
                "FROM Employees e1 JOIN Employees e2\r\n",
                "ON e1.ReportsTo = e2.EmployeeID"
            ],
            "metadata": {
                "azdata_cell_guid": "342dd8a3-9dcc-4a66-817c-4d0dd7181225"
            },
            "outputs": [],
            "execution_count": null
        },
        {
            "cell_type": "markdown",
            "source": [
                "## OUTER JOIN\r\n",
                "- Returns all records from 1 table, even if there is no corresponding record in the other table\r\n",
                "- 3 types of an outer join\r\n",
                "    - LEFT OUTER JOIN: Returns all rows of the first table in the FROM clause(SQL-92)\r\n",
                "    - RIGHT OUTER JOIN: Returns all rows of the second table in the FROM clause(SQL-92)\r\n",
                "    - FULL OUTER JOIN: Returns all rows of the first and the second table in the FROM clause(SQL-92) even if there is no corresponding record in the other table\r\n",
                "\r\n",
                "![join-types](images/join-types.png)\r\n",
                "\r\n",
                "Example: Show the number of shippings per Shipper"
            ],
            "metadata": {
                "azdata_cell_guid": "dbb4006f-404a-4f81-8c85-a8402da5f9a7"
            },
            "attachments": {}
        },
        {
            "cell_type": "code",
            "source": [
                "SELECT s.ShipperID, s.CompanyName, COUNT(OrderID) As NumberOfShippings\r\n",
                "FROM Shippers s JOIN Orders o\r\n",
                "ON s.shipperID = o.shipVia\r\n",
                "GROUP BY s.ShipperID, s.CompanyName\r\n",
                "-- vs\r\n",
                "SELECT s.ShipperID, s.CompanyName, COUNT(OrderID) As NumberOfShippings\r\n",
                "FROM Shippers s LEFT JOIN Orders o\r\n",
                "ON s.shipperID = o.shipVia\r\n",
                "GROUP BY s.ShipperID, s.CompanyName"
            ],
            "metadata": {
                "azdata_cell_guid": "7340da8b-fc5a-43f8-9848-397581cc0c83"
            },
            "outputs": [],
            "execution_count": null
        },
        {
            "cell_type": "markdown",
            "source": [
                "Example: Give the employees to whom no one reports"
            ],
            "metadata": {
                "azdata_cell_guid": "afc71012-f118-446c-bfc1-061c43535ddb"
            },
            "attachments": {}
        },
        {
            "cell_type": "code",
            "source": [
                "SELECT e1.Firstname + ' ' + e1.LastName As Employee,\r\n",
                "e2.Firstname + ' ' + e2.LastName As ReportsTo\r\n",
                "FROM Employees e1 RIGHT JOIN Employees e2\r\n",
                "ON e1.ReportsTo = e2.EmployeeID\r\n",
                "WHERE e1.Firstname + ' ' + e1.LastName IS NULL"
            ],
            "metadata": {
                "azdata_cell_guid": "f92fc9e0-c46f-49c2-8244-80aad682a26a"
            },
            "outputs": [],
            "execution_count": null
        },
        {
            "cell_type": "markdown",
            "source": [
                "## FULL OUTER JOIN\r\n",
                "\r\n",
                "- FULL OUTER JOIN is the combination\u000b(=UNION) of \u000bLEFT and RIGHT OUTER JOIN\r\n",
                ""
            ],
            "metadata": {
                "azdata_cell_guid": "c67566ce-941f-483c-9bb8-8837055c4e3e"
            },
            "attachments": {}
        },
        {
            "cell_type": "code",
            "source": [
                "SELECT o.OrderID, s.ShipperID, s.CompanyName\r\n",
                "FROM Shippers s FULL OUTER JOIN Orders o\r\n",
                "ON s.shipperID = o.shipVia"
            ],
            "metadata": {
                "azdata_cell_guid": "e1a74751-32f1-43af-8490-4b4c55f7e9c6"
            },
            "outputs": [],
            "execution_count": null
        },
        {
            "cell_type": "markdown",
            "source": [
                "## CROSS JOIN\r\n",
                "- In a cross join the number of rows in the result set equals the number of rows in the first table multiplied by the number of rows in the second table\r\n",
                "- Application: generate all combinations\r\n",
                "\r\n",
                "Example. Make a schedule in which each employee should contact each customer\r\n",
                ""
            ],
            "metadata": {
                "azdata_cell_guid": "6472d7a6-6654-4bef-9241-29fd55a43f93"
            }
        },
        {
            "cell_type": "code",
            "source": [
                "SELECT e.EmployeeID, e.FirstName + ' ' + e.LastName, e.Title, \r\n",
                "c.CompanyName, c.ContactName, c.ContactTitle, c.Phone\r\n",
                "FROM Employees e CROSS JOIN Customers c "
            ],
            "metadata": {
                "azdata_cell_guid": "00b6df67-7d38-4107-8375-73194f7b0730"
            },
            "outputs": [],
            "execution_count": null
        },
        {
            "cell_type": "markdown",
            "source": [
                "# SET OPERATORS: UNION - INTERSECT - EXCEPT"
            ],
            "metadata": {
                "azdata_cell_guid": "72258436-c5f3-4f3a-80fb-a6be183dff5a"
            }
        },
        {
            "cell_type": "markdown",
            "source": [
                "## UNION\r\n",
                "**A UNION combines the result of 2 or more queries**\r\n",
                "- Basic form\r\n",
                "```sql\r\n",
                "SELECT ...  FROM ... WHERE ...\r\n",
                "UNION\r\n",
                "SELECT ...  FROM ... WHERE ...\r\n",
                "ORDER BY ...\r\n",
                "```\r\n",
                "- Rules\r\n",
                "    - Both SELECTs have to contain an equal number of columns\r\n",
                "    - Corresponding columns from both SELECTs should have compatible data types\r\n",
                "    - The columns names or aliases from the first SELECT or shown\r\n",
                "    - The result set does not contain duplicates. To keep duplicates use UNION ALL\r\n",
                "    - At the end an ORDER BY can be added. \u000bColumn names or expressions can't be used in the ORDER BY if they differ between the two SELECTs. In this case use column numbers for sorting.\r\n",
                "\r\n",
                "Example: give an overview of all employees (lastname and firstname, city and postal code) and all customers (name, city and postal code)"
            ],
            "metadata": {
                "azdata_cell_guid": "16052bc2-858b-41ff-93bd-6f2eb1b81821"
            }
        },
        {
            "cell_type": "code",
            "source": [
                "SELECT LastName  + ' ' + FirstName as Name, City, Postalcode\r\n",
                "FROM Employees\r\n",
                "UNION\r\n",
                "SELECT CompanyName, City, Postalcode\r\n",
                "FROM Customers"
            ],
            "metadata": {
                "azdata_cell_guid": "a1a87278-db7c-450e-bab2-805efd957cbc"
            },
            "outputs": [],
            "execution_count": null
        },
        {
            "cell_type": "markdown",
            "source": [
                "## INTERSECT\r\n",
                "Example: Which records are in the intersection?\r\n",
                ""
            ],
            "metadata": {
                "azdata_cell_guid": "98fa691c-5bff-4760-b41d-abdcbadaf6fd"
            }
        },
        {
            "cell_type": "code",
            "source": [
                "SELECT City, Country FROM Customers\r\n",
                "INTERSECT \r\n",
                "SELECT City, Country FROM Suppliers"
            ],
            "metadata": {
                "azdata_cell_guid": "6400a53f-d324-40cc-b315-c39fea4c2266"
            },
            "outputs": [],
            "execution_count": null
        },
        {
            "cell_type": "markdown",
            "source": [
                "## EXCEPT\r\n",
                "The EXCEPT operator subtracts a result set from another result set.\r\n",
                "\r\n",
                "Example: which products have never been ordered? "
            ],
            "metadata": {
                "azdata_cell_guid": "290cb823-bd65-41e3-864f-6c5112331f6e"
            }
        },
        {
            "cell_type": "code",
            "source": [
                "SELECT ProductID \r\n",
                "FROM Products\r\n",
                "EXCEPT \r\n",
                "SELECT ProductID \r\n",
                "FROM OrderDetails"
            ],
            "metadata": {
                "azdata_cell_guid": "84f470f5-c007-4da4-aca7-27de8dc32582"
            },
            "outputs": [],
            "execution_count": null
        },
        {
            "cell_type": "markdown",
            "source": [
                "## Exercises\r\n",
                "- Which suppliers (SupplierID and CompanyName) deliver Dairy Products? \r\n",
                "- Give for each supplier the number of orders that contain products of that supplier.  \r\n",
                "Show supplierID, supplier name and the number of orders.  \r\n",
                "Order by supplier name. \r\n",
                "- What’s for each category the lowest UnitPrice?  \r\n",
                "Show category name and unit price. \r\n",
                "- Give for each ordered productId: productname, the least and the most quantity ordered. Order by productname. \r\n",
                "- Give a summary for each employee with orderID, employeeID and employeeName.   \r\n",
                "Make sure that the list also contains employees who don’t have orders yet. \r\n",
                ""
            ],
            "metadata": {
                "azdata_cell_guid": "16799027-069a-46d0-8c2e-cf051b1e9212"
            }
        },
        {
            "cell_type": "code",
            "source": [
                ""
            ],
            "metadata": {
                "azdata_cell_guid": "e0c34087-896e-4ac7-af6c-6608bbafc3ba"
            },
            "outputs": [],
            "execution_count": null
        },
        {
            "cell_type": "markdown",
            "source": [
                ""
            ],
            "metadata": {
                "azdata_cell_guid": "60420179-db4c-40ed-b7bc-92dd023b8f62"
            }
        },
        {
            "cell_type": "code",
            "source": [
                ""
            ],
            "metadata": {
                "azdata_cell_guid": "c42ac5f7-9466-444c-a69d-0515691487dd"
            },
            "outputs": [],
            "execution_count": null
        },
        {
            "cell_type": "markdown",
            "source": [
                ""
            ],
            "metadata": {
                "azdata_cell_guid": "52f1ebf7-0785-4281-912f-5e871aed7438"
            }
        },
        {
            "cell_type": "code",
            "source": [
                ""
            ],
            "metadata": {
                "azdata_cell_guid": "a94edb5c-254a-4f76-94f9-412dcf5e2385"
            },
            "outputs": [],
            "execution_count": null
        },
        {
            "cell_type": "markdown",
            "source": [
                ""
            ],
            "metadata": {
                "azdata_cell_guid": "b3ada14c-e1ba-40dd-8fb6-b16ed940da98"
            }
        },
        {
            "cell_type": "code",
            "source": [
                ""
            ],
            "metadata": {
                "azdata_cell_guid": "bdb2f5da-c794-48f7-bf85-6dc0a806fd6e"
            },
            "outputs": [],
            "execution_count": null
        },
        {
            "cell_type": "markdown",
            "source": [
                ""
            ],
            "metadata": {
                "azdata_cell_guid": "79273033-5505-46b1-be43-947e2984d9ec"
            }
        },
        {
            "cell_type": "code",
            "source": [
                ""
            ],
            "metadata": {
                "azdata_cell_guid": "a01f3a5a-a1e2-452c-a0ae-d4c8c79b0b12"
            },
            "outputs": [],
            "execution_count": null
        },
        {
            "cell_type": "markdown",
            "source": [
                ""
            ],
            "metadata": {
                "azdata_cell_guid": "b783c1c3-34a8-4e9a-b7e3-cecb71706d75"
            }
        },
        {
            "cell_type": "code",
            "source": [
                ""
            ],
            "metadata": {
                "azdata_cell_guid": "7e55660f-8277-4f50-b641-54346e67ac1a"
            },
            "outputs": [],
            "execution_count": null
        },
        {
            "cell_type": "markdown",
            "source": [
                ""
            ],
            "metadata": {
                "azdata_cell_guid": "94aede10-2a53-4dee-b395-430887f59e20"
            }
        },
        {
            "cell_type": "code",
            "source": [
                ""
            ],
            "metadata": {
                "azdata_cell_guid": "28c0a7ce-e74d-4c51-879e-e1435737c426"
            },
            "outputs": [],
            "execution_count": null
        },
        {
            "cell_type": "markdown",
            "source": [
                ""
            ],
            "metadata": {
                "azdata_cell_guid": "ffd3ff5a-5014-4d1b-971e-711a50ae3b33"
            }
        },
        {
            "cell_type": "code",
            "source": [
                ""
            ],
            "metadata": {
                "azdata_cell_guid": "56cd141d-d043-4adc-a80b-bce5d7071112"
            },
            "outputs": [],
            "execution_count": null
        },
        {
            "cell_type": "markdown",
            "source": [
                ""
            ],
            "metadata": {
                "azdata_cell_guid": "8031a61c-7207-47fc-b60e-bcfc909b3fe4"
            }
        },
        {
            "cell_type": "code",
            "source": [
                ""
            ],
            "metadata": {
                "azdata_cell_guid": "e87873d3-4896-432a-a147-9985a05563e2"
            },
            "outputs": [],
            "execution_count": null
        },
        {
            "cell_type": "markdown",
            "source": [
                ""
            ],
            "metadata": {
                "azdata_cell_guid": "46be76eb-82f9-449a-885f-aa8a4989584c"
            }
        },
        {
            "cell_type": "code",
            "source": [
                ""
            ],
            "metadata": {
                "azdata_cell_guid": "36a01694-64c9-494d-bf56-59f7eeee4c9d"
            },
            "outputs": [],
            "execution_count": null
        },
        {
            "cell_type": "markdown",
            "source": [
                ""
            ],
            "metadata": {
                "azdata_cell_guid": "f75ca4f0-db87-4b62-8e60-47d83d524506"
            }
        },
        {
            "cell_type": "code",
            "source": [
                ""
            ],
            "metadata": {
                "azdata_cell_guid": "c8b8664b-9afd-4de3-920d-b6cf640c46d3"
            },
            "outputs": [],
            "execution_count": null
        },
        {
            "cell_type": "markdown",
            "source": [
                ""
            ],
            "metadata": {
                "azdata_cell_guid": "428d24ea-1d4f-43c6-b49f-42e87da1737e"
            }
        },
        {
            "cell_type": "code",
            "source": [
                ""
            ],
            "metadata": {
                "azdata_cell_guid": "2a63f07f-7f15-485b-8b4b-c390b9f83941"
            },
            "outputs": [],
            "execution_count": null
        },
        {
            "cell_type": "markdown",
            "source": [
                ""
            ],
            "metadata": {
                "azdata_cell_guid": "dc70d80d-ab01-4766-bbc2-a1e31068b437"
            }
        },
        {
            "cell_type": "code",
            "source": [
                ""
            ],
            "metadata": {
                "azdata_cell_guid": "53217c8f-dd27-4cc6-896c-75c13ec8d289"
            },
            "outputs": [],
            "execution_count": null
        },
        {
            "cell_type": "markdown",
            "source": [
                ""
            ],
            "metadata": {
                "azdata_cell_guid": "852d0396-2fc2-4f8a-8912-1ad933f3b79d"
            }
        }
    ]
}