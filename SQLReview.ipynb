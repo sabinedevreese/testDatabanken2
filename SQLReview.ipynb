{
    "metadata": {
        "kernelspec": {
            "name": "SQL",
            "display_name": "SQL",
            "language": "sql"
        },
        "language_info": {
            "name": "sql",
            "version": ""
        },
        "extensions": {
            "azuredatastudio": {
                "version": 1,
                "views": []
            }
        }
    },
    "nbformat_minor": 2,
    "nbformat": 4,
    "cells": [
        {
            "cell_type": "markdown",
            "source": [
                "Theoretical SELECT statement\n",
                "```sql\n",
                "SELECT [ALL | DISTINCT] {*|expression [, expression ...]} \n",
                "FROM table name\n",
                "[WHERE conditions(s)]\n",
                "[GROUP BY column name [, column name ...]\n",
                "[HAVING conditions(s)]\n",
                "[ORDER BY {column name |seq nr}{ASC|DESC}[,...]\n",
                "```"
            ],
            "metadata": {
                "azdata_cell_guid": "0ff2f1ea-c41c-4c5a-85ef-bd784fc04ad4"
            },
            "attachments": {}
        }
    ]
}